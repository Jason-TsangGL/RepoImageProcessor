{
 "cells": [
  {
   "cell_type": "code",
   "execution_count": 1,
   "metadata": {},
   "outputs": [],
   "source": [
    "import os\n",
    "import numpy as np\n",
    "import matplotlib\n",
    "import  matplotlib.image as image\n",
    "import matplotlib.pyplot as plt\n",
    "from PIL import Image\n"
   ]
  },
  {
   "cell_type": "code",
   "execution_count": 28,
   "metadata": {},
   "outputs": [],
   "source": [
    "def pngpreviews (array):\n",
    "# Assuming you want to create a folder named 'my_folder' in the current directory\n",
    "    folder_name = f\"{array}_pngpreviews\"\n",
    "    if not os.path.exists(folder_name):\n",
    "        os.makedirs(folder_name)\n",
    "\n",
    "    path = f\"{array}.npy\"\n",
    "    images=np.load(path)[:,:,:,0]\n",
    "    for i in range (0,images.shape[0],15):\n",
    "        filename=f\"{folder_name}/{array}_N{i/15}.png\"\n",
    "        image.imsave(filename,images[i],cmap= \"bone\")\n",
    "    print(\"Complete\")"
   ]
  },
  {
   "cell_type": "code",
   "execution_count": 33,
   "metadata": {},
   "outputs": [
    {
     "name": "stdout",
     "output_type": "stream",
     "text": [
      "Complete\n"
     ]
    }
   ],
   "source": [
    "pngpreviews(\"PredictedMasks\")"
   ]
  },
  {
   "cell_type": "code",
   "execution_count": 2,
   "metadata": {},
   "outputs": [],
   "source": [
    "def PatientViewer (Array, ArrayN, Array1, ArrayN1, Array2, ArrayN2,slicesperpatient):\n",
    "    s=1\n",
    "    for i in range (0,Array.shape[0],slicesperpatient):\n",
    "        fig, axs=plt.subplots (1,3, figsize=(15,10))\n",
    "        axs[0].imshow(Array[i],\"bone\",vmin=0,vmax=MAX)\n",
    "        axs[0].set_title(f'{ArrayN} Patient {s}')\n",
    "        axs[0].axis(\"off\")\n",
    "        axs[1].imshow(Array1[i],\"bone\",vmin=0,vmax=MAX)\n",
    "        axs[1].set_title(f'{ArrayN1} Patient {s}')\n",
    "        axs[1].axis(\"off\")\n",
    "        axs[2].imshow(Array2[i],\"bone\",vmin=0,vmax=MAX)\n",
    "        axs[2].set_title(f'{ArrayN2} Patient {s}')\n",
    "        axs[2].axis(\"off\")\n",
    "        s+=1\n",
    "def patientplot(inputimage,TotalSliceCount,Iterator):\n",
    "    for i in range (0,TotalSliceCount,Iterator):\n",
    "        print(f'=== Slice {i} ===')\n",
    "        plt.imshow(inputimage[i],'bone')\n",
    "        \n",
    "        plt.show()\n"
   ]
  },
  {
   "cell_type": "code",
   "execution_count": null,
   "metadata": {},
   "outputs": [],
   "source": [
    "\n"
   ]
  }
 ],
 "metadata": {
  "kernelspec": {
   "display_name": "base",
   "language": "python",
   "name": "python3"
  },
  "language_info": {
   "codemirror_mode": {
    "name": "ipython",
    "version": 3
   },
   "file_extension": ".py",
   "mimetype": "text/x-python",
   "name": "python",
   "nbconvert_exporter": "python",
   "pygments_lexer": "ipython3",
   "version": "3.10.9"
  },
  "orig_nbformat": 4
 },
 "nbformat": 4,
 "nbformat_minor": 2
}
